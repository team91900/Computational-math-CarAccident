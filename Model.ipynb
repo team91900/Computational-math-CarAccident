{
 "cells": [
  {
   "cell_type": "code",
   "execution_count": 50,
   "metadata": {},
   "outputs": [],
   "source": [
    "import pandas as pd\n",
    "import numpy as np\n",
    "from sklearn.datasets import load_iris\n",
    "from sklearn.model_selection import train_test_split\n",
    "from sklearn.naive_bayes import GaussianNB\n",
    "from sklearn.naive_bayes import CategoricalNB\n",
    "from sklearn.naive_bayes import BernoulliNB\n",
    "from sklearn.metrics import confusion_matrix\n",
    "from sklearn.metrics import classification_report \n",
    "from sklearn.model_selection import cross_val_score"
   ]
  },
  {
   "cell_type": "code",
   "execution_count": 51,
   "metadata": {
    "scrolled": true
   },
   "outputs": [],
   "source": [
    "df = pd.read_csv('AccidentSample.csv')"
   ]
  },
  {
   "cell_type": "code",
   "execution_count": 52,
   "metadata": {},
   "outputs": [
    {
     "data": {
      "text/html": [
       "<div>\n",
       "<style scoped>\n",
       "    .dataframe tbody tr th:only-of-type {\n",
       "        vertical-align: middle;\n",
       "    }\n",
       "\n",
       "    .dataframe tbody tr th {\n",
       "        vertical-align: top;\n",
       "    }\n",
       "\n",
       "    .dataframe thead th {\n",
       "        text-align: right;\n",
       "    }\n",
       "</style>\n",
       "<table border=\"1\" class=\"dataframe\">\n",
       "  <thead>\n",
       "    <tr style=\"text-align: right;\">\n",
       "      <th></th>\n",
       "      <th>ACCIDENT_ID</th>\n",
       "      <th>ACCIDENT_MONTH</th>\n",
       "      <th>ACCIDENT_YEAR</th>\n",
       "      <th>ROADTYPE_ID</th>\n",
       "      <th>ROADSKIN_ID</th>\n",
       "      <th>ACDPOINT_ID</th>\n",
       "      <th>ATMOSPHERE_ID</th>\n",
       "      <th>LIGHT_ID</th>\n",
       "      <th>PERSON_AGE</th>\n",
       "      <th>PERSON_STATE</th>\n",
       "    </tr>\n",
       "  </thead>\n",
       "  <tbody>\n",
       "    <tr>\n",
       "      <th>2</th>\n",
       "      <td>3</td>\n",
       "      <td>8</td>\n",
       "      <td>14</td>\n",
       "      <td>4</td>\n",
       "      <td>1</td>\n",
       "      <td>1</td>\n",
       "      <td>1</td>\n",
       "      <td>3</td>\n",
       "      <td>60</td>\n",
       "      <td>0</td>\n",
       "    </tr>\n",
       "    <tr>\n",
       "      <th>3</th>\n",
       "      <td>4</td>\n",
       "      <td>11</td>\n",
       "      <td>16</td>\n",
       "      <td>3</td>\n",
       "      <td>1</td>\n",
       "      <td>1</td>\n",
       "      <td>1</td>\n",
       "      <td>1</td>\n",
       "      <td>68</td>\n",
       "      <td>0</td>\n",
       "    </tr>\n",
       "    <tr>\n",
       "      <th>5</th>\n",
       "      <td>6</td>\n",
       "      <td>1</td>\n",
       "      <td>17</td>\n",
       "      <td>4</td>\n",
       "      <td>1</td>\n",
       "      <td>1</td>\n",
       "      <td>1</td>\n",
       "      <td>1</td>\n",
       "      <td>72</td>\n",
       "      <td>0</td>\n",
       "    </tr>\n",
       "    <tr>\n",
       "      <th>6</th>\n",
       "      <td>7</td>\n",
       "      <td>1</td>\n",
       "      <td>17</td>\n",
       "      <td>4</td>\n",
       "      <td>3</td>\n",
       "      <td>3</td>\n",
       "      <td>1</td>\n",
       "      <td>1</td>\n",
       "      <td>19</td>\n",
       "      <td>0</td>\n",
       "    </tr>\n",
       "    <tr>\n",
       "      <th>7</th>\n",
       "      <td>8</td>\n",
       "      <td>10</td>\n",
       "      <td>16</td>\n",
       "      <td>4</td>\n",
       "      <td>1</td>\n",
       "      <td>1</td>\n",
       "      <td>1</td>\n",
       "      <td>2</td>\n",
       "      <td>20</td>\n",
       "      <td>1</td>\n",
       "    </tr>\n",
       "  </tbody>\n",
       "</table>\n",
       "</div>"
      ],
      "text/plain": [
       "   ACCIDENT_ID  ACCIDENT_MONTH  ACCIDENT_YEAR  ROADTYPE_ID  ROADSKIN_ID  \\\n",
       "2            3               8             14            4            1   \n",
       "3            4              11             16            3            1   \n",
       "5            6               1             17            4            1   \n",
       "6            7               1             17            4            3   \n",
       "7            8              10             16            4            1   \n",
       "\n",
       "   ACDPOINT_ID  ATMOSPHERE_ID  LIGHT_ID  PERSON_AGE  PERSON_STATE  \n",
       "2            1              1         3          60             0  \n",
       "3            1              1         1          68             0  \n",
       "5            1              1         1          72             0  \n",
       "6            3              1         1          19             0  \n",
       "7            1              1         2          20             1  "
      ]
     },
     "execution_count": 52,
     "metadata": {},
     "output_type": "execute_result"
    }
   ],
   "source": [
    "# df = df[df['ROADTYPE_ID']<7]\n",
    "df = df[(df['ROADTYPE_ID']<7) & (df['ROADSKIN_ID']<7) & (df['ACDPOINT_ID']<7) & (df['ATMOSPHERE_ID']<7) & (df['LIGHT_ID']<7)]\n",
    "df.head()"
   ]
  },
  {
   "cell_type": "code",
   "execution_count": 53,
   "metadata": {},
   "outputs": [
    {
     "data": {
      "text/html": [
       "<div>\n",
       "<style scoped>\n",
       "    .dataframe tbody tr th:only-of-type {\n",
       "        vertical-align: middle;\n",
       "    }\n",
       "\n",
       "    .dataframe tbody tr th {\n",
       "        vertical-align: top;\n",
       "    }\n",
       "\n",
       "    .dataframe thead th {\n",
       "        text-align: right;\n",
       "    }\n",
       "</style>\n",
       "<table border=\"1\" class=\"dataframe\">\n",
       "  <thead>\n",
       "    <tr style=\"text-align: right;\">\n",
       "      <th></th>\n",
       "      <th>ACCIDENT_ID</th>\n",
       "      <th>ACCIDENT_MONTH</th>\n",
       "      <th>ACCIDENT_YEAR</th>\n",
       "      <th>ROADTYPE_ID</th>\n",
       "      <th>ROADSKIN_ID</th>\n",
       "      <th>ACDPOINT_ID</th>\n",
       "      <th>ATMOSPHERE_ID</th>\n",
       "      <th>LIGHT_ID</th>\n",
       "      <th>PERSON_AGE</th>\n",
       "      <th>PERSON_STATE</th>\n",
       "    </tr>\n",
       "  </thead>\n",
       "  <tbody>\n",
       "    <tr>\n",
       "      <th>2</th>\n",
       "      <td>3</td>\n",
       "      <td>8</td>\n",
       "      <td>14</td>\n",
       "      <td>4</td>\n",
       "      <td>1</td>\n",
       "      <td>1</td>\n",
       "      <td>1</td>\n",
       "      <td>3</td>\n",
       "      <td>60</td>\n",
       "      <td>0</td>\n",
       "    </tr>\n",
       "    <tr>\n",
       "      <th>59</th>\n",
       "      <td>60</td>\n",
       "      <td>7</td>\n",
       "      <td>13</td>\n",
       "      <td>1</td>\n",
       "      <td>1</td>\n",
       "      <td>1</td>\n",
       "      <td>1</td>\n",
       "      <td>1</td>\n",
       "      <td>74</td>\n",
       "      <td>1</td>\n",
       "    </tr>\n",
       "    <tr>\n",
       "      <th>60</th>\n",
       "      <td>61</td>\n",
       "      <td>7</td>\n",
       "      <td>13</td>\n",
       "      <td>1</td>\n",
       "      <td>1</td>\n",
       "      <td>1</td>\n",
       "      <td>1</td>\n",
       "      <td>1</td>\n",
       "      <td>78</td>\n",
       "      <td>1</td>\n",
       "    </tr>\n",
       "    <tr>\n",
       "      <th>62</th>\n",
       "      <td>63</td>\n",
       "      <td>10</td>\n",
       "      <td>12</td>\n",
       "      <td>1</td>\n",
       "      <td>1</td>\n",
       "      <td>1</td>\n",
       "      <td>1</td>\n",
       "      <td>3</td>\n",
       "      <td>46</td>\n",
       "      <td>1</td>\n",
       "    </tr>\n",
       "    <tr>\n",
       "      <th>63</th>\n",
       "      <td>64</td>\n",
       "      <td>10</td>\n",
       "      <td>12</td>\n",
       "      <td>1</td>\n",
       "      <td>1</td>\n",
       "      <td>1</td>\n",
       "      <td>1</td>\n",
       "      <td>1</td>\n",
       "      <td>44</td>\n",
       "      <td>1</td>\n",
       "    </tr>\n",
       "  </tbody>\n",
       "</table>\n",
       "</div>"
      ],
      "text/plain": [
       "    ACCIDENT_ID  ACCIDENT_MONTH  ACCIDENT_YEAR  ROADTYPE_ID  ROADSKIN_ID  \\\n",
       "2             3               8             14            4            1   \n",
       "59           60               7             13            1            1   \n",
       "60           61               7             13            1            1   \n",
       "62           63              10             12            1            1   \n",
       "63           64              10             12            1            1   \n",
       "\n",
       "    ACDPOINT_ID  ATMOSPHERE_ID  LIGHT_ID  PERSON_AGE  PERSON_STATE  \n",
       "2             1              1         3          60             0  \n",
       "59            1              1         1          74             1  \n",
       "60            1              1         1          78             1  \n",
       "62            1              1         3          46             1  \n",
       "63            1              1         1          44             1  "
      ]
     },
     "execution_count": 53,
     "metadata": {},
     "output_type": "execute_result"
    }
   ],
   "source": [
    "df = df[df['ACCIDENT_YEAR']<16]\n",
    "df.head()"
   ]
  },
  {
   "cell_type": "code",
   "execution_count": 54,
   "metadata": {},
   "outputs": [
    {
     "data": {
      "text/html": [
       "<div>\n",
       "<style scoped>\n",
       "    .dataframe tbody tr th:only-of-type {\n",
       "        vertical-align: middle;\n",
       "    }\n",
       "\n",
       "    .dataframe tbody tr th {\n",
       "        vertical-align: top;\n",
       "    }\n",
       "\n",
       "    .dataframe thead th {\n",
       "        text-align: right;\n",
       "    }\n",
       "</style>\n",
       "<table border=\"1\" class=\"dataframe\">\n",
       "  <thead>\n",
       "    <tr style=\"text-align: right;\">\n",
       "      <th></th>\n",
       "      <th>ACCIDENT_ID</th>\n",
       "      <th>ACCIDENT_MONTH</th>\n",
       "      <th>ACCIDENT_YEAR</th>\n",
       "      <th>ROADTYPE_ID</th>\n",
       "      <th>ROADSKIN_ID</th>\n",
       "      <th>ACDPOINT_ID</th>\n",
       "      <th>ATMOSPHERE_ID</th>\n",
       "      <th>LIGHT_ID</th>\n",
       "      <th>PERSON_AGE</th>\n",
       "      <th>PERSON_STATE</th>\n",
       "    </tr>\n",
       "  </thead>\n",
       "  <tbody>\n",
       "    <tr>\n",
       "      <th>2</th>\n",
       "      <td>3</td>\n",
       "      <td>8</td>\n",
       "      <td>14</td>\n",
       "      <td>4</td>\n",
       "      <td>1</td>\n",
       "      <td>1</td>\n",
       "      <td>1</td>\n",
       "      <td>3</td>\n",
       "      <td>3</td>\n",
       "      <td>0</td>\n",
       "    </tr>\n",
       "    <tr>\n",
       "      <th>59</th>\n",
       "      <td>60</td>\n",
       "      <td>7</td>\n",
       "      <td>13</td>\n",
       "      <td>1</td>\n",
       "      <td>1</td>\n",
       "      <td>1</td>\n",
       "      <td>1</td>\n",
       "      <td>1</td>\n",
       "      <td>4</td>\n",
       "      <td>1</td>\n",
       "    </tr>\n",
       "    <tr>\n",
       "      <th>60</th>\n",
       "      <td>61</td>\n",
       "      <td>7</td>\n",
       "      <td>13</td>\n",
       "      <td>1</td>\n",
       "      <td>1</td>\n",
       "      <td>1</td>\n",
       "      <td>1</td>\n",
       "      <td>1</td>\n",
       "      <td>4</td>\n",
       "      <td>1</td>\n",
       "    </tr>\n",
       "    <tr>\n",
       "      <th>62</th>\n",
       "      <td>63</td>\n",
       "      <td>10</td>\n",
       "      <td>12</td>\n",
       "      <td>1</td>\n",
       "      <td>1</td>\n",
       "      <td>1</td>\n",
       "      <td>1</td>\n",
       "      <td>3</td>\n",
       "      <td>3</td>\n",
       "      <td>1</td>\n",
       "    </tr>\n",
       "    <tr>\n",
       "      <th>63</th>\n",
       "      <td>64</td>\n",
       "      <td>10</td>\n",
       "      <td>12</td>\n",
       "      <td>1</td>\n",
       "      <td>1</td>\n",
       "      <td>1</td>\n",
       "      <td>1</td>\n",
       "      <td>1</td>\n",
       "      <td>3</td>\n",
       "      <td>1</td>\n",
       "    </tr>\n",
       "  </tbody>\n",
       "</table>\n",
       "</div>"
      ],
      "text/plain": [
       "    ACCIDENT_ID  ACCIDENT_MONTH  ACCIDENT_YEAR  ROADTYPE_ID  ROADSKIN_ID  \\\n",
       "2             3               8             14            4            1   \n",
       "59           60               7             13            1            1   \n",
       "60           61               7             13            1            1   \n",
       "62           63              10             12            1            1   \n",
       "63           64              10             12            1            1   \n",
       "\n",
       "    ACDPOINT_ID  ATMOSPHERE_ID  LIGHT_ID  PERSON_AGE  PERSON_STATE  \n",
       "2             1              1         3           3             0  \n",
       "59            1              1         1           4             1  \n",
       "60            1              1         1           4             1  \n",
       "62            1              1         3           3             1  \n",
       "63            1              1         1           3             1  "
      ]
     },
     "execution_count": 54,
     "metadata": {},
     "output_type": "execute_result"
    }
   ],
   "source": [
    "df = df[df['PERSON_AGE']<100]\n",
    "df = df[df['PERSON_AGE']>0]\n",
    "df.loc[(df.PERSON_AGE <= 14),'PERSON_AGE']=1\n",
    "df.loc[(df.PERSON_AGE >= 15) & (df.PERSON_AGE <= 24),'PERSON_AGE']=2\n",
    "df.loc[(df.PERSON_AGE >= 25) & (df.PERSON_AGE <= 64),'PERSON_AGE']=3\n",
    "df.loc[(df.PERSON_AGE > 64) ,'PERSON_AGE']=4\n",
    "df.head()"
   ]
  },
  {
   "cell_type": "code",
   "execution_count": 55,
   "metadata": {},
   "outputs": [],
   "source": [
    "df.to_csv('filtered_sample.csv') # save a filtered sample"
   ]
  },
  {
   "cell_type": "code",
   "execution_count": 56,
   "metadata": {
    "scrolled": false
   },
   "outputs": [
    {
     "data": {
      "text/plain": [
       "PERSON_STATE\n",
       "0    108226\n",
       "1     23978\n",
       "2       679\n",
       "Name: ACCIDENT_ID, dtype: int64"
      ]
     },
     "execution_count": 56,
     "metadata": {},
     "output_type": "execute_result"
    }
   ],
   "source": [
    "df.groupby('PERSON_STATE')[\"ACCIDENT_ID\"].count()"
   ]
  },
  {
   "cell_type": "code",
   "execution_count": 57,
   "metadata": {},
   "outputs": [],
   "source": [
    "data_arr = df[[\"ROADTYPE_ID\",\"ROADSKIN_ID\",\"ACDPOINT_ID\",\"ATMOSPHERE_ID\",\"LIGHT_ID\",\"PERSON_AGE\"]].to_numpy()\n",
    "label_arr = df[\"PERSON_STATE\"].to_numpy()"
   ]
  },
  {
   "cell_type": "code",
   "execution_count": 58,
   "metadata": {},
   "outputs": [
    {
     "data": {
      "text/plain": [
       "2037"
      ]
     },
     "execution_count": 58,
     "metadata": {},
     "output_type": "execute_result"
    }
   ],
   "source": [
    "# Shuffle data\n",
    "index0 = np.where(label_arr==0)\n",
    "np.random.shuffle(index0[0])\n",
    "index1 = np.where(label_arr==1)\n",
    "np.random.shuffle(index1[0])\n",
    "index2 = np.where(label_arr==2)\n",
    "np.random.shuffle(index2[0])\n",
    "size = len(index2[0])\n",
    "# Person state 3 have 679 samples \n",
    "# Select only 679 sample for each class to prevent imbalance sample and bias result\n",
    "index_all = np.concatenate((index0[0][:size],index1[0][:size],index2[0][:size]),axis = None)\n",
    "len(data_arr[index_all])"
   ]
  },
  {
   "cell_type": "code",
   "execution_count": 59,
   "metadata": {},
   "outputs": [],
   "source": [
    "# split test,train sample\n",
    "X_train, X_test, y_train, y_test = train_test_split(data_arr[index_all], label_arr[index_all], test_size=0.3, random_state=2374)"
   ]
  },
  {
   "cell_type": "code",
   "execution_count": 60,
   "metadata": {
    "scrolled": true
   },
   "outputs": [
    {
     "name": "stdout",
     "output_type": "stream",
     "text": [
      "Confusion matrix\n",
      " [[ 95 103   6]\n",
      " [ 45 132  14]\n",
      " [ 62 138  17]]\n",
      "              precision    recall  f1-score   support\n",
      "\n",
      "           0       0.47      0.47      0.47       204\n",
      "           1       0.35      0.69      0.47       191\n",
      "           2       0.46      0.08      0.13       217\n",
      "\n",
      "    accuracy                           0.40       612\n",
      "   macro avg       0.43      0.41      0.36       612\n",
      "weighted avg       0.43      0.40      0.35       612\n",
      "\n"
     ]
    }
   ],
   "source": [
    "gnb = GaussianNB()\n",
    "y_pred = gnb.fit(X_train, y_train).predict(X_test)\n",
    "print(\"Confusion matrix\\n\",confusion_matrix(y_test, y_pred))\n",
    "print(classification_report(y_test, y_pred))\n",
    "#print(cross_val_score(gnb, data_arr[index_all], label_arr[index_all], cv=6))\n",
    "#print(np.average(cross_val_score(cnb, data_arr[index_all], label_arr[index_all], cv=6)))"
   ]
  },
  {
   "cell_type": "code",
   "execution_count": 61,
   "metadata": {},
   "outputs": [
    {
     "name": "stdout",
     "output_type": "stream",
     "text": [
      "Confusion matrix\n",
      " [[100  81  23]\n",
      " [ 37 123  31]\n",
      " [ 65 115  37]]\n",
      "              precision    recall  f1-score   support\n",
      "\n",
      "           0       0.50      0.49      0.49       204\n",
      "           1       0.39      0.64      0.48       191\n",
      "           2       0.41      0.17      0.24       217\n",
      "\n",
      "    accuracy                           0.42       612\n",
      "   macro avg       0.43      0.43      0.41       612\n",
      "weighted avg       0.43      0.42      0.40       612\n",
      "\n"
     ]
    }
   ],
   "source": [
    "cnb = CategoricalNB()\n",
    "y_pred = cnb.fit(X_train, y_train).predict(X_test)\n",
    "result = confusion_matrix(y_test, y_pred)\n",
    "print(\"Confusion matrix\\n\",result)\n",
    "print(classification_report(y_test, y_pred))\n",
    "#print(cross_val_score(cnb, data_arr[index_all], label_arr[index_all], cv=6))\n",
    "#print(np.average(cross_val_score(cnb, data_arr[index_all], label_arr[index_all], cv=6)))"
   ]
  },
  {
   "cell_type": "code",
   "execution_count": null,
   "metadata": {},
   "outputs": [],
   "source": []
  },
  {
   "cell_type": "code",
   "execution_count": null,
   "metadata": {},
   "outputs": [],
   "source": []
  }
 ],
 "metadata": {
  "kernelspec": {
   "display_name": "Python 3",
   "language": "python",
   "name": "python3"
  },
  "language_info": {
   "codemirror_mode": {
    "name": "ipython",
    "version": 3
   },
   "file_extension": ".py",
   "mimetype": "text/x-python",
   "name": "python",
   "nbconvert_exporter": "python",
   "pygments_lexer": "ipython3",
   "version": "3.5.5"
  }
 },
 "nbformat": 4,
 "nbformat_minor": 2
}
