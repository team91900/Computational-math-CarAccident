{
 "cells": [
  {
   "cell_type": "code",
   "execution_count": 1,
   "metadata": {},
   "outputs": [],
   "source": [
    "import pandas as pd"
   ]
  },
  {
   "cell_type": "code",
   "execution_count": 2,
   "metadata": {
    "scrolled": true
   },
   "outputs": [
    {
     "data": {
      "text/html": [
       "<div>\n",
       "<style scoped>\n",
       "    .dataframe tbody tr th:only-of-type {\n",
       "        vertical-align: middle;\n",
       "    }\n",
       "\n",
       "    .dataframe tbody tr th {\n",
       "        vertical-align: top;\n",
       "    }\n",
       "\n",
       "    .dataframe thead th {\n",
       "        text-align: right;\n",
       "    }\n",
       "</style>\n",
       "<table border=\"1\" class=\"dataframe\">\n",
       "  <thead>\n",
       "    <tr style=\"text-align: right;\">\n",
       "      <th></th>\n",
       "      <th>Unnamed: 0</th>\n",
       "      <th>ACCIDENT_ID</th>\n",
       "      <th>ACCIDENT_MONTH</th>\n",
       "      <th>ACCIDENT_YEAR</th>\n",
       "      <th>ROADTYPE_ID</th>\n",
       "      <th>ROADSKIN_ID</th>\n",
       "      <th>ACDPOINT_ID</th>\n",
       "      <th>ATMOSPHERE_ID</th>\n",
       "      <th>LIGHT_ID</th>\n",
       "      <th>PERSON_AGE</th>\n",
       "      <th>PERSON_STATE</th>\n",
       "    </tr>\n",
       "  </thead>\n",
       "  <tbody>\n",
       "    <tr>\n",
       "      <th>0</th>\n",
       "      <td>2</td>\n",
       "      <td>3</td>\n",
       "      <td>8</td>\n",
       "      <td>14</td>\n",
       "      <td>4</td>\n",
       "      <td>1</td>\n",
       "      <td>1</td>\n",
       "      <td>1</td>\n",
       "      <td>3</td>\n",
       "      <td>3</td>\n",
       "      <td>0</td>\n",
       "    </tr>\n",
       "    <tr>\n",
       "      <th>1</th>\n",
       "      <td>59</td>\n",
       "      <td>60</td>\n",
       "      <td>7</td>\n",
       "      <td>13</td>\n",
       "      <td>1</td>\n",
       "      <td>1</td>\n",
       "      <td>1</td>\n",
       "      <td>1</td>\n",
       "      <td>1</td>\n",
       "      <td>4</td>\n",
       "      <td>1</td>\n",
       "    </tr>\n",
       "    <tr>\n",
       "      <th>2</th>\n",
       "      <td>60</td>\n",
       "      <td>61</td>\n",
       "      <td>7</td>\n",
       "      <td>13</td>\n",
       "      <td>1</td>\n",
       "      <td>1</td>\n",
       "      <td>1</td>\n",
       "      <td>1</td>\n",
       "      <td>1</td>\n",
       "      <td>4</td>\n",
       "      <td>1</td>\n",
       "    </tr>\n",
       "    <tr>\n",
       "      <th>3</th>\n",
       "      <td>62</td>\n",
       "      <td>63</td>\n",
       "      <td>10</td>\n",
       "      <td>12</td>\n",
       "      <td>1</td>\n",
       "      <td>1</td>\n",
       "      <td>1</td>\n",
       "      <td>1</td>\n",
       "      <td>3</td>\n",
       "      <td>3</td>\n",
       "      <td>1</td>\n",
       "    </tr>\n",
       "    <tr>\n",
       "      <th>4</th>\n",
       "      <td>63</td>\n",
       "      <td>64</td>\n",
       "      <td>10</td>\n",
       "      <td>12</td>\n",
       "      <td>1</td>\n",
       "      <td>1</td>\n",
       "      <td>1</td>\n",
       "      <td>1</td>\n",
       "      <td>1</td>\n",
       "      <td>3</td>\n",
       "      <td>1</td>\n",
       "    </tr>\n",
       "    <tr>\n",
       "      <th>...</th>\n",
       "      <td>...</td>\n",
       "      <td>...</td>\n",
       "      <td>...</td>\n",
       "      <td>...</td>\n",
       "      <td>...</td>\n",
       "      <td>...</td>\n",
       "      <td>...</td>\n",
       "      <td>...</td>\n",
       "      <td>...</td>\n",
       "      <td>...</td>\n",
       "      <td>...</td>\n",
       "    </tr>\n",
       "    <tr>\n",
       "      <th>132878</th>\n",
       "      <td>177810</td>\n",
       "      <td>177811</td>\n",
       "      <td>12</td>\n",
       "      <td>12</td>\n",
       "      <td>1</td>\n",
       "      <td>1</td>\n",
       "      <td>1</td>\n",
       "      <td>2</td>\n",
       "      <td>3</td>\n",
       "      <td>2</td>\n",
       "      <td>0</td>\n",
       "    </tr>\n",
       "    <tr>\n",
       "      <th>132879</th>\n",
       "      <td>177811</td>\n",
       "      <td>177812</td>\n",
       "      <td>1</td>\n",
       "      <td>13</td>\n",
       "      <td>2</td>\n",
       "      <td>1</td>\n",
       "      <td>1</td>\n",
       "      <td>1</td>\n",
       "      <td>1</td>\n",
       "      <td>3</td>\n",
       "      <td>0</td>\n",
       "    </tr>\n",
       "    <tr>\n",
       "      <th>132880</th>\n",
       "      <td>177812</td>\n",
       "      <td>177813</td>\n",
       "      <td>12</td>\n",
       "      <td>12</td>\n",
       "      <td>1</td>\n",
       "      <td>1</td>\n",
       "      <td>1</td>\n",
       "      <td>1</td>\n",
       "      <td>1</td>\n",
       "      <td>3</td>\n",
       "      <td>0</td>\n",
       "    </tr>\n",
       "    <tr>\n",
       "      <th>132881</th>\n",
       "      <td>177813</td>\n",
       "      <td>177814</td>\n",
       "      <td>12</td>\n",
       "      <td>12</td>\n",
       "      <td>4</td>\n",
       "      <td>1</td>\n",
       "      <td>3</td>\n",
       "      <td>4</td>\n",
       "      <td>1</td>\n",
       "      <td>4</td>\n",
       "      <td>0</td>\n",
       "    </tr>\n",
       "    <tr>\n",
       "      <th>132882</th>\n",
       "      <td>177814</td>\n",
       "      <td>177815</td>\n",
       "      <td>12</td>\n",
       "      <td>12</td>\n",
       "      <td>3</td>\n",
       "      <td>1</td>\n",
       "      <td>1</td>\n",
       "      <td>1</td>\n",
       "      <td>2</td>\n",
       "      <td>2</td>\n",
       "      <td>0</td>\n",
       "    </tr>\n",
       "  </tbody>\n",
       "</table>\n",
       "<p>132883 rows × 11 columns</p>\n",
       "</div>"
      ],
      "text/plain": [
       "        Unnamed: 0  ACCIDENT_ID  ACCIDENT_MONTH  ACCIDENT_YEAR  ROADTYPE_ID  \\\n",
       "0                2            3               8             14            4   \n",
       "1               59           60               7             13            1   \n",
       "2               60           61               7             13            1   \n",
       "3               62           63              10             12            1   \n",
       "4               63           64              10             12            1   \n",
       "...            ...          ...             ...            ...          ...   \n",
       "132878      177810       177811              12             12            1   \n",
       "132879      177811       177812               1             13            2   \n",
       "132880      177812       177813              12             12            1   \n",
       "132881      177813       177814              12             12            4   \n",
       "132882      177814       177815              12             12            3   \n",
       "\n",
       "        ROADSKIN_ID  ACDPOINT_ID  ATMOSPHERE_ID  LIGHT_ID  PERSON_AGE  \\\n",
       "0                 1            1              1         3           3   \n",
       "1                 1            1              1         1           4   \n",
       "2                 1            1              1         1           4   \n",
       "3                 1            1              1         3           3   \n",
       "4                 1            1              1         1           3   \n",
       "...             ...          ...            ...       ...         ...   \n",
       "132878            1            1              2         3           2   \n",
       "132879            1            1              1         1           3   \n",
       "132880            1            1              1         1           3   \n",
       "132881            1            3              4         1           4   \n",
       "132882            1            1              1         2           2   \n",
       "\n",
       "        PERSON_STATE  \n",
       "0                  0  \n",
       "1                  1  \n",
       "2                  1  \n",
       "3                  1  \n",
       "4                  1  \n",
       "...              ...  \n",
       "132878             0  \n",
       "132879             0  \n",
       "132880             0  \n",
       "132881             0  \n",
       "132882             0  \n",
       "\n",
       "[132883 rows x 11 columns]"
      ]
     },
     "execution_count": 2,
     "metadata": {},
     "output_type": "execute_result"
    }
   ],
   "source": [
    "df = pd.read_csv('filtered_sample.csv')\n",
    "df.head()\n",
    "df"
   ]
  },
  {
   "cell_type": "code",
   "execution_count": 3,
   "metadata": {},
   "outputs": [
    {
     "name": "stdout",
     "output_type": "stream",
     "text": [
      "PERSON_STATE\n",
      "0    0.814446\n",
      "1    0.180444\n",
      "2    0.005110\n",
      "Name: count, dtype: float64\n"
     ]
    }
   ],
   "source": [
    "total = df.groupby(df.PERSON_STATE)[\"ACCIDENT_ID\"].describe()['count'].sum()\n",
    "print(df.groupby(df.PERSON_STATE)[\"ACCIDENT_ID\"].describe()['count']/total)"
   ]
  },
  {
   "cell_type": "code",
   "execution_count": 3,
   "metadata": {},
   "outputs": [],
   "source": [
    "df0 = df[df[\"PERSON_STATE\"]==0]\n",
    "df1 = df[df[\"PERSON_STATE\"]==1]\n",
    "df2 = df[df[\"PERSON_STATE\"]==2]"
   ]
  },
  {
   "cell_type": "code",
   "execution_count": 4,
   "metadata": {},
   "outputs": [
    {
     "name": "stdout",
     "output_type": "stream",
     "text": [
      "State 0\n",
      "ROADTYPE_ID\n",
      "1    0.414411\n",
      "2    0.131660\n",
      "3    0.138211\n",
      "4    0.315248\n",
      "5    0.000471\n",
      "Name: count, dtype: float64\n",
      "ROADSKIN_ID\n",
      "1    0.878125\n",
      "2    0.080674\n",
      "3    0.040591\n",
      "4    0.000610\n",
      "Name: count, dtype: float64\n",
      "ACDPOINT_ID\n",
      "1    0.651526\n",
      "2    0.174819\n",
      "3    0.163500\n",
      "4    0.002375\n",
      "5    0.007780\n",
      "Name: count, dtype: float64\n",
      "ATMOSPHERE_ID\n",
      "1    0.894120\n",
      "2    0.034058\n",
      "3    0.053592\n",
      "4    0.018230\n",
      "Name: count, dtype: float64\n",
      "LIGHT_ID\n",
      "1    0.658354\n",
      "2    0.193410\n",
      "3    0.148236\n",
      "Name: count, dtype: float64\n",
      "PERSON_AGE\n",
      "1    0.110362\n",
      "2    0.307080\n",
      "3    0.544592\n",
      "4    0.037967\n",
      "Name: count, dtype: float64\n"
     ]
    }
   ],
   "source": [
    "print(\"State 0\")\n",
    "total = df0.groupby(df0.ROADTYPE_ID)[\"ACCIDENT_ID\"].describe()['count'].sum()\n",
    "print(df0.groupby(df0.ROADTYPE_ID)[\"ACCIDENT_ID\"].describe()['count']/total)\n",
    "total = df0.groupby(df0.ROADSKIN_ID)[\"ACCIDENT_ID\"].describe()['count'].sum()\n",
    "print(df0.groupby(df0.ROADSKIN_ID)[\"ACCIDENT_ID\"].describe()['count']/total)\n",
    "total = df0.groupby(df0.ACDPOINT_ID)[\"ACCIDENT_ID\"].describe()['count'].sum()\n",
    "print(df0.groupby(df0.ACDPOINT_ID)[\"ACCIDENT_ID\"].describe()['count']/total)\n",
    "total = df0.groupby(df0.ATMOSPHERE_ID)[\"ACCIDENT_ID\"].describe()['count'].sum()\n",
    "print(df0.groupby(df0.ATMOSPHERE_ID)[\"ACCIDENT_ID\"].describe()['count']/total)\n",
    "total = df0.groupby(df0.LIGHT_ID)[\"ACCIDENT_ID\"].describe()['count'].sum()\n",
    "print(df0.groupby(df0.LIGHT_ID)[\"ACCIDENT_ID\"].describe()['count']/total)\n",
    "total = df0.groupby(df0.PERSON_AGE)[\"ACCIDENT_ID\"].describe()['count'].sum()\n",
    "print(df0.groupby(df0.PERSON_AGE)[\"ACCIDENT_ID\"].describe()['count']/total)"
   ]
  },
  {
   "cell_type": "code",
   "execution_count": 5,
   "metadata": {},
   "outputs": [
    {
     "name": "stdout",
     "output_type": "stream",
     "text": [
      "State 1\n",
      "ROADTYPE_ID\n",
      "1    0.622863\n",
      "2    0.158812\n",
      "3    0.077863\n",
      "4    0.139711\n",
      "5    0.000751\n",
      "Name: count, dtype: float64\n",
      "ROADSKIN_ID\n",
      "1    0.892526\n",
      "2    0.071899\n",
      "3    0.034698\n",
      "4    0.000876\n",
      "Name: count, dtype: float64\n",
      "ACDPOINT_ID\n",
      "1    0.651722\n",
      "2    0.185503\n",
      "3    0.157102\n",
      "4    0.002335\n",
      "5    0.003336\n",
      "Name: count, dtype: float64\n",
      "ATMOSPHERE_ID\n",
      "1    0.864251\n",
      "2    0.045500\n",
      "3    0.068062\n",
      "4    0.022187\n",
      "Name: count, dtype: float64\n",
      "LIGHT_ID\n",
      "1    0.571983\n",
      "2    0.223788\n",
      "3    0.204229\n",
      "Name: count, dtype: float64\n",
      "PERSON_AGE\n",
      "1    0.055092\n",
      "2    0.234840\n",
      "3    0.630328\n",
      "4    0.079740\n",
      "Name: count, dtype: float64\n"
     ]
    }
   ],
   "source": [
    "print(\"State 1\")\n",
    "total = df1.groupby(df1.ROADTYPE_ID)[\"ACCIDENT_ID\"].describe()['count'].sum()\n",
    "print(df1.groupby(df1.ROADTYPE_ID)[\"ACCIDENT_ID\"].describe()['count']/total)\n",
    "total = df1.groupby(df1.ROADSKIN_ID)[\"ACCIDENT_ID\"].describe()['count'].sum()\n",
    "print(df1.groupby(df1.ROADSKIN_ID)[\"ACCIDENT_ID\"].describe()['count']/total)\n",
    "total = df1.groupby(df1.ACDPOINT_ID)[\"ACCIDENT_ID\"].describe()['count'].sum()\n",
    "print(df1.groupby(df1.ACDPOINT_ID)[\"ACCIDENT_ID\"].describe()['count']/total)\n",
    "total = df1.groupby(df1.ATMOSPHERE_ID)[\"ACCIDENT_ID\"].describe()['count'].sum()\n",
    "print(df1.groupby(df1.ATMOSPHERE_ID)[\"ACCIDENT_ID\"].describe()['count']/total)\n",
    "total = df1.groupby(df1.LIGHT_ID)[\"ACCIDENT_ID\"].describe()['count'].sum()\n",
    "print(df1.groupby(df1.LIGHT_ID)[\"ACCIDENT_ID\"].describe()['count']/total)\n",
    "total = df1.groupby(df1.PERSON_AGE)[\"ACCIDENT_ID\"].describe()['count'].sum()\n",
    "print(df1.groupby(df1.PERSON_AGE)[\"ACCIDENT_ID\"].describe()['count']/total)"
   ]
  },
  {
   "cell_type": "code",
   "execution_count": 6,
   "metadata": {},
   "outputs": [
    {
     "name": "stdout",
     "output_type": "stream",
     "text": [
      "State 2\n",
      "ROADTYPE_ID\n",
      "1    0.615611\n",
      "2    0.150221\n",
      "3    0.086892\n",
      "4    0.147275\n",
      "Name: count, dtype: float64\n",
      "ROADSKIN_ID\n",
      "1    0.883652\n",
      "2    0.085420\n",
      "3    0.030928\n",
      "Name: count, dtype: float64\n",
      "ACDPOINT_ID\n",
      "1    0.652430\n",
      "2    0.217968\n",
      "3    0.114875\n",
      "4    0.010309\n",
      "5    0.004418\n",
      "Name: count, dtype: float64\n",
      "ATMOSPHERE_ID\n",
      "1    0.879234\n",
      "2    0.029455\n",
      "3    0.067747\n",
      "4    0.023564\n",
      "Name: count, dtype: float64\n",
      "LIGHT_ID\n",
      "1    0.559647\n",
      "2    0.226804\n",
      "3    0.213549\n",
      "Name: count, dtype: float64\n",
      "PERSON_AGE\n",
      "1    0.055092\n",
      "2    0.234840\n",
      "3    0.630328\n",
      "4    0.079740\n",
      "Name: count, dtype: float64\n"
     ]
    }
   ],
   "source": [
    "print(\"State 2\")\n",
    "total = df2.groupby(df2.ROADTYPE_ID)[\"ACCIDENT_ID\"].describe()['count'].sum()\n",
    "print(df2.groupby(df2.ROADTYPE_ID)[\"ACCIDENT_ID\"].describe()['count']/total)\n",
    "total = df2.groupby(df2.ROADSKIN_ID)[\"ACCIDENT_ID\"].describe()['count'].sum()\n",
    "print(df2.groupby(df2.ROADSKIN_ID)[\"ACCIDENT_ID\"].describe()['count']/total)\n",
    "total = df2.groupby(df2.ACDPOINT_ID)[\"ACCIDENT_ID\"].describe()['count'].sum()\n",
    "print(df2.groupby(df2.ACDPOINT_ID)[\"ACCIDENT_ID\"].describe()['count']/total)\n",
    "total = df2.groupby(df2.ATMOSPHERE_ID)[\"ACCIDENT_ID\"].describe()['count'].sum()\n",
    "print(df2.groupby(df2.ATMOSPHERE_ID)[\"ACCIDENT_ID\"].describe()['count']/total)\n",
    "total = df2.groupby(df2.LIGHT_ID)[\"ACCIDENT_ID\"].describe()['count'].sum()\n",
    "print(df2.groupby(df2.LIGHT_ID)[\"ACCIDENT_ID\"].describe()['count']/total)\n",
    "total = df1.groupby(df1.PERSON_AGE)[\"ACCIDENT_ID\"].describe()['count'].sum()\n",
    "print(df1.groupby(df1.PERSON_AGE)[\"ACCIDENT_ID\"].describe()['count']/total)"
   ]
  },
  {
   "cell_type": "code",
   "execution_count": 7,
   "metadata": {
    "scrolled": true
   },
   "outputs": [
    {
     "name": "stdout",
     "output_type": "stream",
     "text": [
      "PERSON_AGE\n",
      "1    0.100246\n",
      "2    0.293837\n",
      "3    0.560290\n",
      "4    0.045627\n",
      "Name: count, dtype: float64\n"
     ]
    }
   ],
   "source": [
    "total = df.groupby(df.PERSON_AGE)[\"ACCIDENT_ID\"].describe()['count'].sum()\n",
    "print(df.groupby(df.PERSON_AGE)[\"ACCIDENT_ID\"].describe()['count']/total)"
   ]
  },
  {
   "cell_type": "code",
   "execution_count": 4,
   "metadata": {},
   "outputs": [
    {
     "data": {
      "text/plain": [
       "0.061639990426173165"
      ]
     },
     "execution_count": 4,
     "metadata": {},
     "output_type": "execute_result"
    }
   ],
   "source": [
    "(0.814)*(0.414)*(0.878)*(0.651)*(0.894)*(0.658)*(0.544)"
   ]
  },
  {
   "cell_type": "code",
   "execution_count": 5,
   "metadata": {},
   "outputs": [
    {
     "data": {
      "text/plain": [
       "0.0017684435998836687"
      ]
     },
     "execution_count": 5,
     "metadata": {},
     "output_type": "execute_result"
    }
   ],
   "source": [
    "0.180444*0.622*0.892*0.651*0.864*0.571*0.055"
   ]
  },
  {
   "cell_type": "code",
   "execution_count": 7,
   "metadata": {},
   "outputs": [
    {
     "data": {
      "text/plain": [
       "7.56786462945669e-05"
      ]
     },
     "execution_count": 7,
     "metadata": {},
     "output_type": "execute_result"
    }
   ],
   "source": [
    "0.005*0.615*0.883*0.652*0.879*0.559*0.087"
   ]
  },
  {
   "cell_type": "code",
   "execution_count": null,
   "metadata": {},
   "outputs": [],
   "source": []
  }
 ],
 "metadata": {
  "kernelspec": {
   "display_name": "Python 3",
   "language": "python",
   "name": "python3"
  },
  "language_info": {
   "codemirror_mode": {
    "name": "ipython",
    "version": 3
   },
   "file_extension": ".py",
   "mimetype": "text/x-python",
   "name": "python",
   "nbconvert_exporter": "python",
   "pygments_lexer": "ipython3",
   "version": "3.5.5"
  }
 },
 "nbformat": 4,
 "nbformat_minor": 2
}
